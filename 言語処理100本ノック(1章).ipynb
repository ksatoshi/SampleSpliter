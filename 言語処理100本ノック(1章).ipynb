{
  "nbformat": 4,
  "nbformat_minor": 0,
  "metadata": {
    "colab": {
      "name": "言語処理100本ノック(1章).ipynb",
      "provenance": [],
      "include_colab_link": true
    },
    "kernelspec": {
      "name": "python3",
      "display_name": "Python 3"
    },
    "language_info": {
      "name": "python"
    }
  },
  "cells": [
    {
      "cell_type": "markdown",
      "metadata": {
        "id": "view-in-github",
        "colab_type": "text"
      },
      "source": [
        "<a href=\"https://colab.research.google.com/github/ksatoshi/SampleSpliter/blob/main/%E8%A8%80%E8%AA%9E%E5%87%A6%E7%90%86100%E6%9C%AC%E3%83%8E%E3%83%83%E3%82%AF(1%E7%AB%A0).ipynb\" target=\"_parent\"><img src=\"https://colab.research.google.com/assets/colab-badge.svg\" alt=\"Open In Colab\"/></a>"
      ]
    },
    {
      "cell_type": "markdown",
      "source": [
        "00.文字列の逆順\n"
      ],
      "metadata": {
        "id": "bO6KTZ82Mm5P"
      }
    },
    {
      "cell_type": "code",
      "execution_count": null,
      "metadata": {
        "colab": {
          "base_uri": "https://localhost:8080/"
        },
        "id": "sezKN1AwMUXy",
        "outputId": "b6ca3f32-0967-4949-911c-a18e461f1a49"
      },
      "outputs": [
        {
          "output_type": "stream",
          "name": "stdout",
          "text": [
            "desserts\n"
          ]
        }
      ],
      "source": [
        "str = \"stressed\"\n",
        "new_str = []\n",
        "\n",
        "for count in range(0,len(str)):\n",
        "    new_str.append(str[len(str)-count-1])\n",
        "\n",
        "new_str = \"\".join(new_str) #リストを文字列に変換\n",
        "print(new_str)"
      ]
    },
    {
      "cell_type": "markdown",
      "source": [
        "01. 「パタトクカシーー」"
      ],
      "metadata": {
        "id": "8FZx0XsCNw6d"
      }
    },
    {
      "cell_type": "code",
      "source": [
        "str = \"パタトクカシーー\"\n",
        "new_str = []\n",
        "\n",
        "for i in [0,2,4,6]:\n",
        "  new_str.append(str[i])\n",
        "\n",
        "new_str = \"\".join(new_str)\n",
        "print(new_str)"
      ],
      "metadata": {
        "colab": {
          "base_uri": "https://localhost:8080/"
        },
        "id": "Zq5W1zp6NFSl",
        "outputId": "1ddb7719-f2b0-45e7-b1ed-5928ea5a42f6"
      },
      "execution_count": null,
      "outputs": [
        {
          "output_type": "stream",
          "name": "stdout",
          "text": [
            "パトカー\n"
          ]
        }
      ]
    },
    {
      "cell_type": "markdown",
      "source": [
        "02. 「パトカー」＋「タクシー」＝「パタトクカシーー」"
      ],
      "metadata": {
        "id": "bM176rsROhFe"
      }
    },
    {
      "cell_type": "code",
      "source": [
        "str1 = \"パトカー\"\n",
        "str2 = \"タクシー\"\n",
        "\n",
        "new_str = []\n",
        "\n",
        "for count in range(0,4):\n",
        "  new_str.append(str1[count])\n",
        "  new_str.append(str2[count])\n",
        "\n",
        "new_str = \"\".join(new_str)\n",
        "print(new_str)"
      ],
      "metadata": {
        "id": "C5hlfarHOD11",
        "colab": {
          "base_uri": "https://localhost:8080/"
        },
        "outputId": "766cf546-6f16-4a11-c127-1135db18b9df"
      },
      "execution_count": null,
      "outputs": [
        {
          "output_type": "stream",
          "name": "stdout",
          "text": [
            "パタトクカシーー\n"
          ]
        }
      ]
    },
    {
      "cell_type": "markdown",
      "source": [
        ""
      ],
      "metadata": {
        "id": "OgHGbMvVTTKm"
      }
    },
    {
      "cell_type": "code",
      "source": [
        ""
      ],
      "metadata": {
        "id": "c8GE4DnUS2yh"
      },
      "execution_count": null,
      "outputs": []
    }
  ]
}